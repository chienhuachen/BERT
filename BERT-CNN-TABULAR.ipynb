{
 "cells": [
  {
   "cell_type": "code",
   "execution_count": null,
   "metadata": {},
   "outputs": [],
   "source": [
    "from google.colab import drive\n",
    "drive.mount(\"/content/drive/\")\n",
    " \n",
    "import os\n",
    "os.environ['KAGGLE_CONFIG_DIR'] = '/content/drive/My Drive/Colab Notebooks/BERT/.kaggle/'\n",
    " \n",
    "# Set working path\n",
    "mywd = '/content/drive/My Drive/Colab Notebooks/BERT/'\n",
    "#mywd = \"C:/Users/jeff7/jupyter/BERT\"\n",
    "os.chdir(mywd)\n",
    "os.getcwd()"
   ]
  },
  {
   "cell_type": "code",
   "execution_count": null,
   "metadata": {},
   "outputs": [],
   "source": [
    "!pip uninstall -y kaggle\n",
    "!pip install --upgrade pip\n",
    "!pip install kaggle==1.5.6\n",
    " \n",
    "!kaggle competitions download -c petfinder-adoption-prediction"
   ]
  },
  {
   "cell_type": "code",
   "execution_count": null,
   "metadata": {},
   "outputs": [],
   "source": [
    "!unzip petfinder-adoption-prediction.zip -d /input/petfinder-adoption-prediction"
   ]
  },
  {
   "cell_type": "code",
   "execution_count": null,
   "metadata": {},
   "outputs": [],
   "source": [
    "!pip install transformers"
   ]
  },
  {
   "cell_type": "code",
   "execution_count": null,
   "metadata": {},
   "outputs": [],
   "source": [
    "# standard imports\n",
    "import time\n",
    "import random\n",
    "import numpy as np\n",
    "import pandas as pd\n",
    "import gc\n",
    "from sklearn import metrics\n",
    "from sklearn import preprocessing\n",
    "import glob\n",
    "from PIL import Image\n",
    "import matplotlib.pyplot as plt\n",
    "\n",
    "# pytorch imports\n",
    "import torch\n",
    "import torch.nn as nn\n",
    "import torch.nn.functional as F\n",
    "import torch.utils.data\n",
    "import torch.utils.checkpoint as checkpoint\n",
    "from torchvision import transforms, models\n",
    "\n",
    "# imports for preprocessing the questions\n",
    "from transformers import BertTokenizer, BertPreTrainedModel, BertModel\n",
    "\n",
    "# progress bars\n",
    "from tqdm import tqdm\n",
    "tqdm.pandas()"
   ]
  },
  {
   "cell_type": "code",
   "execution_count": 2,
   "metadata": {},
   "outputs": [],
   "source": [
    "from contextlib import contextmanager\n",
    "import time\n",
    "\n",
    "@contextmanager\n",
    "def timer(name):\n",
    "    t0 = time.time()\n",
    "    yield\n",
    "    print(f'[{name}] done in {time.time() - t0:.0f} s')\n",
    "    \n",
    "\n",
    "FILE_DIR = 'input/petfinder-adoption-prediction'\n",
    "    \n",
    "TRAIN_PATH = f'{FILE_DIR}/train/train.csv'\n",
    "TEST_PATH = f'{FILE_DIR}/test/test.csv'\n",
    "SAMPLE_SUBMISSION_PATH = f'{FILE_DIR}/test/sample_submission.csv'\n",
    "\n",
    "maxlen = 50\n",
    "max_namelen = 5\n",
    "\n",
    "max_features = 95000\n",
    "batch_size = 512\n",
    "seed = 1018\n",
    "\n",
    "def seed_torch(seed=seed):\n",
    "    random.seed(seed)\n",
    "    os.environ['PYTHONHASHSEED'] = str(seed)\n",
    "    np.random.seed(seed)\n",
    "    torch.manual_seed(seed)\n",
    "    torch.cuda.manual_seed(seed)\n",
    "    torch.backends.cudnn.deterministic = True\n",
    "    \n",
    "seed_torch()"
   ]
  },
  {
   "cell_type": "code",
   "execution_count": 3,
   "metadata": {},
   "outputs": [],
   "source": [
    "train_df = pd.read_csv(TRAIN_PATH)\n",
    "test_df = pd.read_csv(TEST_PATH)\n",
    "train_label = train_df['AdoptionSpeed'].values"
   ]
  },
  {
   "cell_type": "code",
   "execution_count": 4,
   "metadata": {},
   "outputs": [
    {
     "name": "stderr",
     "output_type": "stream",
     "text": [
      "100%|█████████████████████████████████████████████████████████████████████████| 14993/14993 [00:00<00:00, 43322.49it/s]\n",
      "100%|███████████████████████████████████████████████████████████████████████████| 3972/3972 [00:00<00:00, 45659.98it/s]\n",
      "100%|█████████████████████████████████████████████████████████████████████████| 14993/14993 [00:00<00:00, 54907.90it/s]\n",
      "100%|███████████████████████████████████████████████████████████████████████████| 3972/3972 [00:00<00:00, 52941.79it/s]\n"
     ]
    }
   ],
   "source": [
    "def preprocess_text(text):\n",
    "    punct = [ '\"', ')', '(', '-', '|', \"'\", '$', '&', '/', '[', ']', '>', '%', '=', '#', '*', '+', '\\\\', '•',  '~', '@', '£', '·', '_', '{', '}', '©', '^', '®', '`',  '<', '→', '°', '€', '™', '›',  '♥', '←', '×', '§', '″', '′', 'Â', '█', '½', 'à', '…', \n",
    "        '“', '★', '”', '–', '●', 'â', '►', '−', '¢', '²', '¬', '░', '¶', '↑', '±', '¿', '▾', '═', '¦', '║', '―', '¥', '▓', '—', '‹', '─', '▒', '：', '¼', '⊕', '▼', '▪', '†', '■', '’', '▀', '¨', '▄', '♫', '☆', 'é', '¯', '♦', '¤', '▲', 'è', '¸', '¾']\n",
    "    for p in punct:\n",
    "        text = text.replace(p, f' {p} ')\n",
    "    return text\n",
    "\n",
    "train_df['Description'] = train_df['Description'].astype(str)\n",
    "test_df['Description'] = test_df['Description'].astype(str)\n",
    "train_df['Description'] = train_df['Description'].progress_apply(preprocess_text)\n",
    "test_df['Description'] = test_df['Description'].progress_apply(preprocess_text)\n",
    "\n",
    "train_df['Name'] = train_df['Name'].astype(str)\n",
    "test_df['Name'] = test_df['Name'].astype(str)\n",
    "train_df['Name'] = train_df['Name'].progress_apply(preprocess_text)\n",
    "test_df['Name'] = test_df['Name'].progress_apply(preprocess_text)"
   ]
  },
  {
   "cell_type": "code",
   "execution_count": 5,
   "metadata": {},
   "outputs": [],
   "source": [
    "train_id = train_df['PetID']\n",
    "test_id = test_df['PetID']\n",
    "\n",
    "train_text = train_df[['Name', 'Description']].agg(' '.join, axis=1)\n",
    "test_text = test_df[['Name', 'Description']].agg(' '.join, axis=1)"
   ]
  },
  {
   "cell_type": "code",
   "execution_count": 6,
   "metadata": {},
   "outputs": [
    {
     "name": "stderr",
     "output_type": "stream",
     "text": [
      "100%|████████████████████████████████████████████████████████████████████████████████| 19/19 [00:00<00:00, 1187.25it/s]"
     ]
    },
    {
     "name": "stdout",
     "output_type": "stream",
     "text": [
      "int64 Type\n",
      "int64 Age\n",
      "int64 Breed1\n",
      "int64 Breed2\n",
      "int64 Gender\n",
      "int64 Color1\n",
      "int64 Color2\n",
      "int64 Color3\n",
      "int64 MaturitySize\n",
      "int64 FurLength\n",
      "int64 Vaccinated\n",
      "int64 Dewormed\n",
      "int64 Sterilized\n",
      "int64 Health\n",
      "int64 Quantity\n",
      "int64 Fee\n",
      "int64 State\n",
      "int64 VideoAmt\n",
      "float64 PhotoAmt\n"
     ]
    },
    {
     "name": "stderr",
     "output_type": "stream",
     "text": [
      "\n"
     ]
    }
   ],
   "source": [
    "### Name, RescuerID, Description, PetID were not included\n",
    "all_categories = ['Type','Age','Breed1','Breed2','Gender',\n",
    "                  'Color1','Color2','Color3',\n",
    "                  'MaturitySize','FurLength','Vaccinated',\n",
    "                  'Dewormed','Sterilized','Health',\n",
    "                  'Quantity','Fee','State',\n",
    "                  'VideoAmt','PhotoAmt']\n",
    "\n",
    "for category in tqdm(all_categories):\n",
    "    dtype = train_df[category].dtype\n",
    "    print(train_df[category].dtype, category)\n",
    "    \n",
    "    if dtype == 'int64':\n",
    "        train_df[category] = train_df[category].fillna(-1)\n",
    "        test_df[category] = test_df[category].fillna(-1)\n",
    "    elif dtype == 'float64':\n",
    "        train_df[category] = train_df[category].fillna(-1.0)\n",
    "        test_df[category] = test_df[category].fillna(-1.0)\n",
    "    else:\n",
    "        train_df[category] = train_df[category].fillna('unknown')\n",
    "        test_df[category] = test_df[category].fillna('unknown')"
   ]
  },
  {
   "cell_type": "code",
   "execution_count": 7,
   "metadata": {},
   "outputs": [],
   "source": [
    "one_hot_categories = ['Type','Breed1','Breed2','Gender',\n",
    "                      'Color1','Color2','Color3','State']\n",
    "\n",
    "def pandas_get_dummies(column, df_train, df_test):\n",
    "    merged = pd.concat([df_train[column], df_test[column]], axis = 0)\n",
    "    train_size = df_train.shape[0]\n",
    "    merged_dummies = pd.get_dummies(merged.astype(str), prefix=column)\n",
    "    return merged_dummies[:train_size], merged_dummies[train_size:]\n",
    "\n",
    "train_df_one_hot, test_df_one_hot = pandas_get_dummies(one_hot_categories, train_df, test_df)"
   ]
  },
  {
   "cell_type": "code",
   "execution_count": 8,
   "metadata": {},
   "outputs": [],
   "source": [
    "ordinal_categories = ['Age','MaturitySize','FurLength','Vaccinated','Dewormed','Sterilized',\n",
    "                      'Health','Quantity','Fee','VideoAmt','PhotoAmt']\n",
    "\n",
    "def pandas_mean_normalizer(df):\n",
    "    return (df-df.mean()) / df.std()\n",
    "\n",
    "def pandas_min_max_normalizer(df):\n",
    "    return (df-df.min()) / (df.max()-df.min())\n",
    "\n",
    "train_df_ordinal = pandas_mean_normalizer(train_df[ordinal_categories])\n",
    "test_df_ordinal = pandas_mean_normalizer(test_df[ordinal_categories])"
   ]
  },
  {
   "cell_type": "code",
   "execution_count": 9,
   "metadata": {},
   "outputs": [],
   "source": [
    "train_tabular = pd.concat([train_df_ordinal, train_df_one_hot], axis = 1)\n",
    "test_tabular = pd.concat([test_df_ordinal, test_df_one_hot], axis = 1)"
   ]
  },
  {
   "cell_type": "code",
   "execution_count": 10,
   "metadata": {},
   "outputs": [],
   "source": [
    "class TotalDataset(torch.utils.data.Dataset):\n",
    "    \"\"\"\n",
    "    A customized data loader.\n",
    "    \"\"\"\n",
    "    def __init__(self, path, IDs, Text, Tabular, Label=None):\n",
    "        \"\"\" Intialize the dataset\n",
    "        \"\"\"\n",
    "        self.Tabular, self.Label = Tabular, Label\n",
    "        \n",
    "        tokenizer = BertTokenizer.from_pretrained('bert-base-uncased')\n",
    "        inputs = tokenizer(list(Text), return_tensors=\"pt\",\n",
    "                            max_length=100, padding=True, truncation=True)\n",
    "        self.input_ids = inputs['input_ids']\n",
    "        self.token_type_ids = inputs['token_type_ids']\n",
    "        self.attention_mask = inputs['attention_mask']\n",
    "        \n",
    "        self.transform = transforms.Compose([\n",
    "                            transforms.Resize(256),\n",
    "                            transforms.RandomCrop(224),\n",
    "                            transforms.ToTensor(),                            \n",
    "                            transforms.Normalize(mean=[0.5, 0.5, 0.5], std=[0.5, 0.5, 0.5])\n",
    "                        ])\n",
    "    \n",
    "        filenames = glob.glob(path + '*.jpg')        \n",
    "        tmp_filenames = []\n",
    "        for image_path in filenames:\n",
    "            tmp_filenames.append(image_path.split('\\\\')[-1].split('-')[0])\n",
    "        \n",
    "        self.filenames = []\n",
    "        for ID in IDs:\n",
    "            try:\n",
    "                self.filenames.append(filenames[tmp_filenames.index(ID)])\n",
    "            except:\n",
    "                self.filenames.append(np.nan)\n",
    "                \n",
    "        self.len = len(self.filenames)\n",
    "        \n",
    "    # You must override __getitem__ and __len__\n",
    "    def __getitem__(self, index):\n",
    "        \"\"\" Get a sample from the dataset\n",
    "        \"\"\"\n",
    "        try:\n",
    "            image = Image.open(self.filenames[index])\n",
    "            image = self.transform(image)\n",
    "        except:\n",
    "            image = Image.new('RGB', (224,224))\n",
    "            image = self.transform(image)\n",
    "        \n",
    "        if(self.Label is not None):       \n",
    "            return self.Label[index], self.Tabular[index], image, self.input_ids[index], self.token_type_ids[index], self.attention_mask[index]\n",
    "        else:\n",
    "            return self.Tabular[index], image, self.input_ids[index], self.token_type_ids[index], self.attention_mask[index]\n",
    "    \n",
    "    def __len__(self):\n",
    "        \"\"\"\n",
    "        Total number of samples in the dataset\n",
    "        \"\"\"\n",
    "        return self.len"
   ]
  },
  {
   "cell_type": "code",
   "execution_count": 11,
   "metadata": {},
   "outputs": [],
   "source": [
    "train_image_path = \"input\\\\petfinder-adoption-prediction\\\\train_images\\\\\"\n",
    "test_image_path = \"input\\\\petfinder-adoption-prediction\\\\test_images\\\\\"\n",
    "\n",
    "L = len(train_label)\n",
    "index = np.random.choice(np.arange(L), size = L, replace = False)\n",
    "train_index = index[:-2000]\n",
    "val_index = index[-2000:]\n",
    "\n",
    "train_ds = TotalDataset(train_image_path, train_id[train_index], train_text[train_index], np.array(train_tabular)[train_index], train_label[train_index])\n",
    "val_ds = TotalDataset(train_image_path, train_id[val_index], train_text[val_index], np.array(train_tabular)[val_index], train_label[val_index])\n",
    "#test_ds = TotalDataset(test_image_path, test_id, test_text, np.array(test_tabular))\n",
    "\n",
    "train_loader = torch.utils.data.DataLoader(dataset=train_ds, batch_size=50, shuffle=True)\n",
    "val_loader = torch.utils.data.DataLoader(dataset=val_ds, batch_size=50)\n",
    "#test_loader = torch.utils.data.DataLoader(dataset=test_ds, batch_size=20)"
   ]
  },
  {
   "cell_type": "code",
   "execution_count": 12,
   "metadata": {},
   "outputs": [
    {
     "data": {
      "text/plain": [
       "(14993, 381)"
      ]
     },
     "execution_count": 12,
     "metadata": {},
     "output_type": "execute_result"
    }
   ],
   "source": [
    "np.array(train_tabular).shape"
   ]
  },
  {
   "cell_type": "code",
   "execution_count": 13,
   "metadata": {},
   "outputs": [
    {
     "data": {
      "text/plain": [
       "array([0, 1, 2, 3, 4], dtype=int64)"
      ]
     },
     "execution_count": 13,
     "metadata": {},
     "output_type": "execute_result"
    }
   ],
   "source": [
    "np.unique(train_label)"
   ]
  },
  {
   "cell_type": "code",
   "execution_count": null,
   "metadata": {},
   "outputs": [],
   "source": [
    "class Bert_CNN_Tabular_Classification(nn.Module):\n",
    "    \n",
    "    def __init__(self):\n",
    "        super(Bert_CNN_Tabular_Classification, self).__init__()\n",
    "        \n",
    "        self.bert = BertModel.from_pretrained('bert-base-uncased')\n",
    "        self.dropout = nn.Dropout(0.3)\n",
    "        bert_out_features = 768\n",
    "        for param in self.bert.parameters():\n",
    "            param.requires_grad = False\n",
    "        \n",
    "        cnn_out_features = 500\n",
    "        self.cnn = models.resnet50(pretrained=True)\n",
    "        for param in self.cnn.parameters():\n",
    "            param.requires_grad = False\n",
    "        self.cnn.fc = nn.Linear(self.cnn.fc.in_features, cnn_out_features)        \n",
    "        \n",
    "        tabular_features = 381\n",
    "        self.classifier = nn.Linear(bert_out_features + cnn_out_features + tabular_features, 5)\n",
    "\n",
    "    def forward(\n",
    "        self,\n",
    "        input_tabular=None,\n",
    "        input_image=None,        \n",
    "        input_ids=None,\n",
    "        attention_mask=None,\n",
    "        token_type_ids=None):\n",
    "        \n",
    "        sequence_output, pooled_output = self.bert(\n",
    "            input_ids,\n",
    "            attention_mask=attention_mask,\n",
    "            token_type_ids=token_type_ids\n",
    "        )\n",
    "\n",
    "        text_output = self.dropout(pooled_output)\n",
    "        \n",
    "        image_output = self.cnn(input_image)\n",
    "    \n",
    "        total = torch.cat([text_output, image_output, input_tabular.float()], axis = 1)\n",
    "        \n",
    "        logits = self.classifier(total)\n",
    "\n",
    "        return logits"
   ]
  },
  {
   "cell_type": "code",
   "execution_count": 15,
   "metadata": {},
   "outputs": [],
   "source": [
    "def train(net, train_data, test_data, num_epochs, optimizer, criterion, File_path):\n",
    "    \n",
    "    AlltStart = time.time()#計時開始\n",
    "    train_loss = np.zeros(num_epochs)\n",
    "    train_acc = np.zeros(num_epochs)\n",
    "    test_loss = np.zeros(num_epochs)\n",
    "    test_acc = np.zeros(num_epochs)\n",
    "    \n",
    "    device = torch.device(\"cuda:0\" if torch.cuda.is_available() else \"cpu\")\n",
    "    net.to(device)\n",
    "    criterion.to(device)\n",
    "        \n",
    "    for epoch in range(num_epochs):\n",
    "        tStart = time.time()#計時開始\n",
    "        net = net.train()\n",
    "        for data in tqdm(train_data):\n",
    "            \n",
    "            # zero the parameter gradients\n",
    "            optimizer.zero_grad()\n",
    "            \n",
    "            # forward\n",
    "            data = [t.to(device) for t in data if t is not None]\n",
    "            labels, tabular, image, tokens_tensors, segments_tensors, masks_tensors = data\n",
    "            outputs = model(input_tabular=tabular,\n",
    "                            input_image=image,\n",
    "                            input_ids=tokens_tensors, \n",
    "                            token_type_ids=segments_tensors, \n",
    "                            attention_mask=masks_tensors)\n",
    "\n",
    "            loss = criterion(outputs, labels)\n",
    "            #loss = criterion(outputs.cpu(), labels.cpu())\n",
    "            \n",
    "            # backward\n",
    "            loss.backward()\n",
    "            optimizer.step()\n",
    "            \n",
    "            train_loss[epoch] += float(loss.data)\n",
    "            train_acc[epoch] += get_acc(outputs, labels)\n",
    "\n",
    "        if test_data is not None:\n",
    "            net = net.eval()\n",
    "            for data in tqdm(test_data):\n",
    "                data = [t.to(device) for t in data if t is not None]\n",
    "                labels, tabular, image, tokens_tensors, segments_tensors, masks_tensors = data\n",
    "                outputs = model(input_tabular=tabular,\n",
    "                                input_image=image,\n",
    "                                input_ids=tokens_tensors, \n",
    "                                token_type_ids=segments_tensors, \n",
    "                                attention_mask=masks_tensors)\n",
    "\n",
    "                loss = criterion(outputs, labels)\n",
    "                #loss = criterion(outputs.cpu(), labels.cpu())\n",
    "                \n",
    "                test_loss[epoch] += float(loss.data)\n",
    "                test_acc[epoch] += get_acc(outputs, labels)\n",
    "                \n",
    "            tEnd = time.time()#計時結束\n",
    "            \n",
    "            epoch_str = (\n",
    "                \"Epoch %d. %.2f sec. Train Loss: %f, Train Acc: %f, Test Loss: %f, Test Acc: %f, \"\n",
    "                % (epoch,\n",
    "                   (tEnd - tStart),\n",
    "                   train_loss[epoch] / len(train_data),\n",
    "                   train_acc[epoch] / len(train_data),\n",
    "                   test_loss[epoch] / len(test_data),\n",
    "                   test_acc[epoch] / len(test_data)))\n",
    "            \n",
    "        else:\n",
    "            tEnd = time.time()#計時結束\n",
    "            epoch_str = (\"Epoch %d. %.2f sec. Train Loss: %f, Train Acc: %f, \" %\n",
    "                         (epoch, (tEnd - tStart), train_loss[epoch] / len(train_data),\n",
    "                          train_acc[epoch] / len(train_data)))\n",
    "            \n",
    "        print(epoch_str)\n",
    "        \n",
    "    AlltEnd = time.time()#計時結束\n",
    "    print(\"Totally cost %d min %.2f sec\" % ((AlltEnd - AlltStart)//60, (AlltEnd - AlltStart)%60))\n",
    "    \n",
    "    file_data = pd.DataFrame(data = (np.vstack((train_loss/len(train_data), train_acc/len(train_data), test_loss/len(test_data), test_acc/len(test_data)))).T)\n",
    "    file_data.to_csv(File_path, encoding = \"utf-8\")\n",
    "    \n",
    "    plt.figure()\n",
    "    plt.plot(train_loss / len(train_data))\n",
    "    plt.plot(test_loss / len(test_data))\n",
    "    plt.legend(['train_loss', 'test_loss'], loc = \"best\", frameon = False)\n",
    "    plt.title(' Training/testing loss')\n",
    "    plt.show()\n",
    "    \n",
    "    plt.figure()\n",
    "    plt.plot(train_acc/ len(train_data))\n",
    "    plt.plot(test_acc / len(test_data))\n",
    "    plt.legend(['train_acc', 'test_acc'], loc = \"best\", frameon = False)\n",
    "    plt.title(' Training/testing accuracy')\n",
    "    plt.show()\n",
    "\n",
    "def test(net, test_data):\n",
    "    device = torch.device(\"cuda:0\" if torch.cuda.is_available() else \"cpu\")\n",
    "    net.to(device)\n",
    "    net = net.eval()\n",
    "    predictions = None\n",
    "    Total_num_correct = 0\n",
    "    Total_num = 0\n",
    "    for data in tqdm(test_data):\n",
    "        data = [t.to(device) for t in data if t is not None]\n",
    "        labels, tabular, image, tokens_tensors, segments_tensors, masks_tensors = data\n",
    "        outputs = model(input_tabular=tabular,\n",
    "                        input_image=image,\n",
    "                        input_ids=tokens_tensors, \n",
    "                        token_type_ids=segments_tensors, \n",
    "                        attention_mask=masks_tensors)\n",
    "\n",
    "        _, pred_labels = outputs.max(1)\n",
    "        if predictions is None:\n",
    "            predictions = pred_labels\n",
    "        else:\n",
    "            predictions = torch.cat((predictions, pred_labels))\n",
    "\n",
    "        Total_num += outputs.size(0)\n",
    "        Total_num_correct += ((pred_labels == labels).sum().data).float()\n",
    "            \n",
    "    print(\"Test accuracy %f \" % (Total_num_correct/Total_num))\n",
    "            \n",
    "    return predictions\n",
    "\n",
    "\n",
    "def get_acc(outputs, labels):\n",
    "    total = outputs.size(0)\n",
    "    _, pred_labels = outputs.max(1)\n",
    "    num_correct = ((pred_labels == labels).sum().data).float()\n",
    "    return num_correct / total\n",
    "\n",
    "\n",
    "def count_params(model):\n",
    "    count = 0\n",
    "    for layer_tensor_name, tensor in model.named_parameters():\n",
    "        count += torch.numel(tensor)\n",
    "        print('Layer {}: {} elements'.format(layer_tensor_name, torch.numel(tensor)))\n",
    "    print(\"Total parameters = %d\" % count)"
   ]
  },
  {
   "cell_type": "code",
   "execution_count": 16,
   "metadata": {},
   "outputs": [],
   "source": [
    "def Weighted_Kappa_Loss(logits, labels, num_classes=5, epsilon=1e-10):\n",
    "    probas = torch.nn.functional.softmax(logits.float(), 0).float()\n",
    "    labels = torch.nn.functional.one_hot(labels, num_classes).float()\n",
    "    repeat_op = torch.arange(0, num_classes).view(num_classes, 1).repeat(1, num_classes).float()\n",
    "    repeat_op_sq = torch.pow((repeat_op - repeat_op.transpose(0, 1)), 2)\n",
    "    weights = repeat_op_sq / (num_classes - 1) ** 2\n",
    "\n",
    "    pred_ = probas ** 2\n",
    "    pred_norm = pred_ / (epsilon + pred_.sum(1).view(-1, 1))\n",
    "\n",
    "    hist_rater_a = pred_norm.sum(0)\n",
    "    hist_rater_b = labels.sum(0)\n",
    "    conf_mat = torch.matmul(pred_norm.transpose(0, 1), labels)\n",
    "\n",
    "    nom = (weights * conf_mat).sum()\n",
    "    denom = (weights * torch.matmul(hist_rater_a.view(num_classes, 1), hist_rater_b.view(1, num_classes)) / labels.shape[0]).sum()\n",
    "    return nom / (denom + epsilon)"
   ]
  },
  {
   "cell_type": "code",
   "execution_count": 17,
   "metadata": {},
   "outputs": [],
   "source": [
    "model = Bert_CNN_Tabular_Classification()\n",
    "\n",
    "#print(model)\n",
    "#count_params(model)"
   ]
  },
  {
   "cell_type": "code",
   "execution_count": 18,
   "metadata": {},
   "outputs": [
    {
     "name": "stderr",
     "output_type": "stream",
     "text": [
      "100%|████████████████████████████████████████████████████████████████████████████████| 260/260 [02:03<00:00,  2.11it/s]\n",
      "100%|██████████████████████████████████████████████████████████████████████████████████| 40/40 [00:18<00:00,  2.22it/s]\n",
      "  0%|                                                                                          | 0/260 [00:00<?, ?it/s]"
     ]
    },
    {
     "name": "stdout",
     "output_type": "stream",
     "text": [
      "Epoch 0. 141.19 sec. Train Loss: 1.413428, Train Acc: 0.349638, Test Loss: 1.384730, Test Acc: 0.383000, \n"
     ]
    },
    {
     "name": "stderr",
     "output_type": "stream",
     "text": [
      "100%|████████████████████████████████████████████████████████████████████████████████| 260/260 [02:02<00:00,  2.12it/s]\n",
      "100%|██████████████████████████████████████████████████████████████████████████████████| 40/40 [00:17<00:00,  2.23it/s]\n",
      "  0%|                                                                                          | 0/260 [00:00<?, ?it/s]"
     ]
    },
    {
     "name": "stdout",
     "output_type": "stream",
     "text": [
      "Epoch 1. 140.83 sec. Train Loss: 1.368375, Train Acc: 0.383225, Test Loss: 1.375476, Test Acc: 0.383500, \n"
     ]
    },
    {
     "name": "stderr",
     "output_type": "stream",
     "text": [
      "100%|████████████████████████████████████████████████████████████████████████████████| 260/260 [02:02<00:00,  2.13it/s]\n",
      "100%|██████████████████████████████████████████████████████████████████████████████████| 40/40 [00:18<00:00,  2.21it/s]\n",
      "  0%|                                                                                          | 0/260 [00:00<?, ?it/s]"
     ]
    },
    {
     "name": "stdout",
     "output_type": "stream",
     "text": [
      "Epoch 2. 140.45 sec. Train Loss: 1.349012, Train Acc: 0.393803, Test Loss: 1.385557, Test Acc: 0.372500, \n"
     ]
    },
    {
     "name": "stderr",
     "output_type": "stream",
     "text": [
      "100%|████████████████████████████████████████████████████████████████████████████████| 260/260 [02:03<00:00,  2.10it/s]\n",
      "100%|██████████████████████████████████████████████████████████████████████████████████| 40/40 [00:18<00:00,  2.22it/s]\n",
      "  0%|                                                                                          | 0/260 [00:00<?, ?it/s]"
     ]
    },
    {
     "name": "stdout",
     "output_type": "stream",
     "text": [
      "Epoch 3. 141.71 sec. Train Loss: 1.344185, Train Acc: 0.407275, Test Loss: 1.364523, Test Acc: 0.410500, \n"
     ]
    },
    {
     "name": "stderr",
     "output_type": "stream",
     "text": [
      "100%|████████████████████████████████████████████████████████████████████████████████| 260/260 [02:02<00:00,  2.12it/s]\n",
      "100%|██████████████████████████████████████████████████████████████████████████████████| 40/40 [00:17<00:00,  2.23it/s]\n",
      "  0%|                                                                                          | 0/260 [00:00<?, ?it/s]"
     ]
    },
    {
     "name": "stdout",
     "output_type": "stream",
     "text": [
      "Epoch 4. 140.27 sec. Train Loss: 1.330550, Train Acc: 0.404930, Test Loss: 1.365810, Test Acc: 0.388000, \n"
     ]
    },
    {
     "name": "stderr",
     "output_type": "stream",
     "text": [
      "100%|████████████████████████████████████████████████████████████████████████████████| 260/260 [02:01<00:00,  2.13it/s]\n",
      "100%|██████████████████████████████████████████████████████████████████████████████████| 40/40 [00:17<00:00,  2.24it/s]\n",
      "  0%|                                                                                          | 0/260 [00:00<?, ?it/s]"
     ]
    },
    {
     "name": "stdout",
     "output_type": "stream",
     "text": [
      "Epoch 5. 139.83 sec. Train Loss: 1.324445, Train Acc: 0.417342, Test Loss: 1.359117, Test Acc: 0.404000, \n"
     ]
    },
    {
     "name": "stderr",
     "output_type": "stream",
     "text": [
      "100%|████████████████████████████████████████████████████████████████████████████████| 260/260 [02:01<00:00,  2.14it/s]\n",
      "100%|██████████████████████████████████████████████████████████████████████████████████| 40/40 [00:17<00:00,  2.24it/s]\n",
      "  0%|                                                                                          | 0/260 [00:00<?, ?it/s]"
     ]
    },
    {
     "name": "stdout",
     "output_type": "stream",
     "text": [
      "Epoch 6. 139.49 sec. Train Loss: 1.318804, Train Acc: 0.418483, Test Loss: 1.381138, Test Acc: 0.382500, \n"
     ]
    },
    {
     "name": "stderr",
     "output_type": "stream",
     "text": [
      "100%|████████████████████████████████████████████████████████████████████████████████| 260/260 [02:01<00:00,  2.14it/s]\n",
      "100%|██████████████████████████████████████████████████████████████████████████████████| 40/40 [00:17<00:00,  2.24it/s]\n",
      "  0%|                                                                                          | 0/260 [00:00<?, ?it/s]"
     ]
    },
    {
     "name": "stdout",
     "output_type": "stream",
     "text": [
      "Epoch 7. 139.40 sec. Train Loss: 1.313604, Train Acc: 0.420252, Test Loss: 1.374837, Test Acc: 0.401500, \n"
     ]
    },
    {
     "name": "stderr",
     "output_type": "stream",
     "text": [
      "100%|████████████████████████████████████████████████████████████████████████████████| 260/260 [02:01<00:00,  2.14it/s]\n",
      "100%|██████████████████████████████████████████████████████████████████████████████████| 40/40 [00:17<00:00,  2.24it/s]\n",
      "  0%|                                                                                          | 0/260 [00:00<?, ?it/s]"
     ]
    },
    {
     "name": "stdout",
     "output_type": "stream",
     "text": [
      "Epoch 8. 139.54 sec. Train Loss: 1.309578, Train Acc: 0.423790, Test Loss: 1.398316, Test Acc: 0.373500, \n"
     ]
    },
    {
     "name": "stderr",
     "output_type": "stream",
     "text": [
      "100%|████████████████████████████████████████████████████████████████████████████████| 260/260 [02:00<00:00,  2.15it/s]\n",
      "100%|██████████████████████████████████████████████████████████████████████████████████| 40/40 [00:17<00:00,  2.25it/s]\n",
      "  0%|                                                                                          | 0/260 [00:00<?, ?it/s]"
     ]
    },
    {
     "name": "stdout",
     "output_type": "stream",
     "text": [
      "Epoch 9. 138.80 sec. Train Loss: 1.311363, Train Acc: 0.423982, Test Loss: 1.372702, Test Acc: 0.388000, \n"
     ]
    },
    {
     "name": "stderr",
     "output_type": "stream",
     "text": [
      "100%|████████████████████████████████████████████████████████████████████████████████| 260/260 [02:01<00:00,  2.15it/s]\n",
      "100%|██████████████████████████████████████████████████████████████████████████████████| 40/40 [00:17<00:00,  2.24it/s]\n",
      "  0%|                                                                                          | 0/260 [00:00<?, ?it/s]"
     ]
    },
    {
     "name": "stdout",
     "output_type": "stream",
     "text": [
      "Epoch 10. 138.86 sec. Train Loss: 1.302505, Train Acc: 0.421290, Test Loss: 1.367501, Test Acc: 0.394500, \n"
     ]
    },
    {
     "name": "stderr",
     "output_type": "stream",
     "text": [
      "100%|████████████████████████████████████████████████████████████████████████████████| 260/260 [02:01<00:00,  2.14it/s]\n",
      "100%|██████████████████████████████████████████████████████████████████████████████████| 40/40 [00:17<00:00,  2.24it/s]\n",
      "  0%|                                                                                          | 0/260 [00:00<?, ?it/s]"
     ]
    },
    {
     "name": "stdout",
     "output_type": "stream",
     "text": [
      "Epoch 11. 139.16 sec. Train Loss: 1.297394, Train Acc: 0.432071, Test Loss: 1.368343, Test Acc: 0.394000, \n"
     ]
    },
    {
     "name": "stderr",
     "output_type": "stream",
     "text": [
      "100%|████████████████████████████████████████████████████████████████████████████████| 260/260 [02:00<00:00,  2.15it/s]\n",
      "100%|██████████████████████████████████████████████████████████████████████████████████| 40/40 [00:17<00:00,  2.25it/s]\n",
      "  0%|                                                                                          | 0/260 [00:00<?, ?it/s]"
     ]
    },
    {
     "name": "stdout",
     "output_type": "stream",
     "text": [
      "Epoch 12. 138.79 sec. Train Loss: 1.300094, Train Acc: 0.428199, Test Loss: 1.374760, Test Acc: 0.384000, \n"
     ]
    },
    {
     "name": "stderr",
     "output_type": "stream",
     "text": [
      "100%|████████████████████████████████████████████████████████████████████████████████| 260/260 [02:01<00:00,  2.15it/s]\n",
      "100%|██████████████████████████████████████████████████████████████████████████████████| 40/40 [00:17<00:00,  2.24it/s]\n",
      "  0%|                                                                                          | 0/260 [00:00<?, ?it/s]"
     ]
    },
    {
     "name": "stdout",
     "output_type": "stream",
     "text": [
      "Epoch 13. 138.93 sec. Train Loss: 1.295174, Train Acc: 0.428558, Test Loss: 1.380978, Test Acc: 0.396000, \n"
     ]
    },
    {
     "name": "stderr",
     "output_type": "stream",
     "text": [
      "100%|████████████████████████████████████████████████████████████████████████████████| 260/260 [02:01<00:00,  2.15it/s]\n",
      "100%|██████████████████████████████████████████████████████████████████████████████████| 40/40 [00:17<00:00,  2.24it/s]\n",
      "  0%|                                                                                          | 0/260 [00:00<?, ?it/s]"
     ]
    },
    {
     "name": "stdout",
     "output_type": "stream",
     "text": [
      "Epoch 14. 138.97 sec. Train Loss: 1.295711, Train Acc: 0.427520, Test Loss: 1.382381, Test Acc: 0.386500, \n"
     ]
    },
    {
     "name": "stderr",
     "output_type": "stream",
     "text": [
      "100%|████████████████████████████████████████████████████████████████████████████████| 260/260 [02:01<00:00,  2.15it/s]\n",
      "100%|██████████████████████████████████████████████████████████████████████████████████| 40/40 [00:17<00:00,  2.24it/s]\n",
      "  0%|                                                                                          | 0/260 [00:00<?, ?it/s]"
     ]
    },
    {
     "name": "stdout",
     "output_type": "stream",
     "text": [
      "Epoch 15. 139.08 sec. Train Loss: 1.291813, Train Acc: 0.428021, Test Loss: 1.383109, Test Acc: 0.393500, \n"
     ]
    },
    {
     "name": "stderr",
     "output_type": "stream",
     "text": [
      "100%|████████████████████████████████████████████████████████████████████████████████| 260/260 [02:01<00:00,  2.15it/s]\n",
      "100%|██████████████████████████████████████████████████████████████████████████████████| 40/40 [00:17<00:00,  2.24it/s]\n",
      "  0%|                                                                                          | 0/260 [00:00<?, ?it/s]"
     ]
    },
    {
     "name": "stdout",
     "output_type": "stream",
     "text": [
      "Epoch 16. 139.06 sec. Train Loss: 1.288555, Train Acc: 0.428508, Test Loss: 1.384474, Test Acc: 0.384000, \n"
     ]
    },
    {
     "name": "stderr",
     "output_type": "stream",
     "text": [
      "100%|████████████████████████████████████████████████████████████████████████████████| 260/260 [02:01<00:00,  2.15it/s]\n",
      "100%|██████████████████████████████████████████████████████████████████████████████████| 40/40 [00:17<00:00,  2.24it/s]\n",
      "  0%|                                                                                          | 0/260 [00:00<?, ?it/s]"
     ]
    },
    {
     "name": "stdout",
     "output_type": "stream",
     "text": [
      "Epoch 17. 138.92 sec. Train Loss: 1.289111, Train Acc: 0.432392, Test Loss: 1.378837, Test Acc: 0.390500, \n"
     ]
    },
    {
     "name": "stderr",
     "output_type": "stream",
     "text": [
      "100%|████████████████████████████████████████████████████████████████████████████████| 260/260 [02:01<00:00,  2.14it/s]\n",
      "100%|██████████████████████████████████████████████████████████████████████████████████| 40/40 [00:17<00:00,  2.24it/s]\n",
      "  0%|                                                                                          | 0/260 [00:00<?, ?it/s]"
     ]
    },
    {
     "name": "stdout",
     "output_type": "stream",
     "text": [
      "Epoch 18. 139.27 sec. Train Loss: 1.285327, Train Acc: 0.434789, Test Loss: 1.406310, Test Acc: 0.385000, \n"
     ]
    },
    {
     "name": "stderr",
     "output_type": "stream",
     "text": [
      "100%|████████████████████████████████████████████████████████████████████████████████| 260/260 [02:01<00:00,  2.15it/s]\n",
      "100%|██████████████████████████████████████████████████████████████████████████████████| 40/40 [00:17<00:00,  2.23it/s]"
     ]
    },
    {
     "name": "stdout",
     "output_type": "stream",
     "text": [
      "Epoch 19. 139.03 sec. Train Loss: 1.285525, Train Acc: 0.438213, Test Loss: 1.402613, Test Acc: 0.380500, \n",
      "Totally cost 46 min 33.22 sec\n"
     ]
    },
    {
     "name": "stderr",
     "output_type": "stream",
     "text": [
      "\n"
     ]
    },
    {
     "data": {
      "image/png": "[encoded data removed]",
      "text/plain": [
       "<Figure size 432x288 with 1 Axes>"
      ]
     },
     "metadata": {
      "needs_background": "light"
     },
     "output_type": "display_data"
    },
    {
     "data": {
      "image/png": "[encoded data removed]",
      "text/plain": [
       "<Figure size 432x288 with 1 Axes>"
      ]
     },
     "metadata": {
      "needs_background": "light"
     },
     "output_type": "display_data"
    }
   ],
   "source": [
    "optimizer = torch.optim.Adam(model.parameters()) \n",
    "criterion = nn.CrossEntropyLoss()\n",
    "#criterion = Weighted_Kappa_Loss\n",
    "#criterion = nn.MSELoss()\n",
    "epoch_num = 20\n",
    "\n",
    "train(model, train_loader, val_loader, epoch_num, optimizer, criterion, \"./Try.csv\")\n",
    "\n",
    "#gc.collect()\n",
    "#torch.cuda.empty_cache()"
   ]
  },
  {
   "cell_type": "code",
   "execution_count": 19,
   "metadata": {},
   "outputs": [],
   "source": [
    "def confusion_matrix(rater_a, rater_b, min_rating=None, max_rating=None):\n",
    "    \"\"\"\n",
    "    Returns the confusion matrix between rater's ratings\n",
    "    \"\"\"\n",
    "    assert(len(rater_a) == len(rater_b))\n",
    "    if min_rating is None:\n",
    "        min_rating = min(rater_a + rater_b)\n",
    "    if max_rating is None:\n",
    "        max_rating = max(rater_a + rater_b)\n",
    "    num_ratings = int(max_rating - min_rating + 1)\n",
    "    conf_mat = [[0 for i in range(num_ratings)]\n",
    "                for j in range(num_ratings)]\n",
    "    for a, b in zip(rater_a, rater_b):\n",
    "        conf_mat[a - min_rating][b - min_rating] += 1\n",
    "    return conf_mat\n",
    "\n",
    "def histogram(ratings, min_rating=None, max_rating=None):\n",
    "    \"\"\"\n",
    "    Returns the counts of each type of rating that a rater made\n",
    "    \"\"\"\n",
    "    if min_rating is None:\n",
    "        min_rating = min(ratings)\n",
    "    if max_rating is None:\n",
    "        max_rating = max(ratings)\n",
    "    num_ratings = int(max_rating - min_rating + 1)\n",
    "    hist_ratings = [0 for x in range(num_ratings)]\n",
    "    for r in ratings:\n",
    "        hist_ratings[r - min_rating] += 1\n",
    "    return hist_ratings\n",
    "\n",
    "def quadratic_weighted_kappa(y, y_pred):\n",
    "    \"\"\"\n",
    "    Calculates the quadratic weighted kappa\n",
    "    axquadratic_weighted_kappa calculates the quadratic weighted kappa\n",
    "    value, which is a measure of inter-rater agreement between two raters\n",
    "    that provide discrete numeric ratings.  Potential values range from -1\n",
    "    (representing complete disagreement) to 1 (representing complete\n",
    "    agreement).  A kappa value of 0 is expected if all agreement is due to\n",
    "    chance.\n",
    "    quadratic_weighted_kappa(rater_a, rater_b), where rater_a and rater_b\n",
    "    each correspond to a list of integer ratings.  These lists must have the\n",
    "    same length.\n",
    "    The ratings should be integers, and it is assumed that they contain\n",
    "    the complete range of possible ratings.\n",
    "    quadratic_weighted_kappa(X, min_rating, max_rating), where min_rating\n",
    "    is the minimum possible rating, and max_rating is the maximum possible\n",
    "    rating\n",
    "    \"\"\"\n",
    "    rater_a = y\n",
    "    rater_b = y_pred\n",
    "    min_rating=None\n",
    "    max_rating=None\n",
    "    rater_a = np.array(rater_a, dtype=int)\n",
    "    rater_b = np.array(rater_b, dtype=int)\n",
    "    assert(len(rater_a) == len(rater_b))\n",
    "    if min_rating is None:\n",
    "        min_rating = min(min(rater_a), min(rater_b))\n",
    "    if max_rating is None:\n",
    "        max_rating = max(max(rater_a), max(rater_b))\n",
    "    conf_mat = confusion_matrix(rater_a, rater_b,\n",
    "                                min_rating, max_rating)\n",
    "    num_ratings = len(conf_mat)\n",
    "    num_scored_items = float(len(rater_a))\n",
    "\n",
    "    hist_rater_a = histogram(rater_a, min_rating, max_rating)\n",
    "    hist_rater_b = histogram(rater_b, min_rating, max_rating)\n",
    "\n",
    "    numerator = 0.0\n",
    "    denominator = 0.0\n",
    "\n",
    "    for i in range(num_ratings):\n",
    "        for j in range(num_ratings):\n",
    "            expected_count = (hist_rater_a[i] * hist_rater_b[j]\n",
    "                              / num_scored_items)\n",
    "            d = pow(i - j, 2.0) / pow(num_ratings - 1, 2.0)\n",
    "            numerator += d * conf_mat[i][j] / num_scored_items\n",
    "            denominator += d * expected_count / num_scored_items\n",
    "\n",
    "    return (1.0 - numerator / denominator)"
   ]
  },
  {
   "cell_type": "code",
   "execution_count": 20,
   "metadata": {},
   "outputs": [
    {
     "name": "stderr",
     "output_type": "stream",
     "text": [
      "100%|██████████████████████████████████████████████████████████████████████████████████| 40/40 [00:10<00:00,  3.69it/s]\n"
     ]
    },
    {
     "name": "stdout",
     "output_type": "stream",
     "text": [
      "Test accuracy 0.385500 \n"
     ]
    }
   ],
   "source": [
    "predictions = test(model, val_loader)\n",
    "\n",
    "del model\n",
    "#del train_ds\n",
    "#del train_loader\n",
    "#del val_ds\n",
    "#del val_loader\n",
    "gc.collect()\n",
    "torch.cuda.empty_cache()"
   ]
  },
  {
   "cell_type": "code",
   "execution_count": 21,
   "metadata": {},
   "outputs": [
    {
     "name": "stdout",
     "output_type": "stream",
     "text": [
      "0.3855\n",
      "0.28847422564070824\n"
     ]
    }
   ],
   "source": [
    "accuracy = (predictions.cpu().numpy() == train_label[val_index]).sum() / len(train_label[val_index])\n",
    "qwk = quadratic_weighted_kappa(train_label[val_index], predictions.cpu().numpy())\n",
    "print(accuracy)\n",
    "print(qwk)"
   ]
  },
  {
   "cell_type": "code",
   "execution_count": 22,
   "metadata": {},
   "outputs": [
    {
     "data": {
      "text/plain": [
       "0.28847422564070835"
      ]
     },
     "execution_count": 22,
     "metadata": {},
     "output_type": "execute_result"
    }
   ],
   "source": [
    "from sklearn.metrics import cohen_kappa_score\n",
    "\n",
    "cohen_kappa_score(train_label[val_index], predictions.cpu().numpy(), weights='quadratic')"
   ]
  },
  {
   "cell_type": "code",
   "execution_count": 23,
   "metadata": {},
   "outputs": [
    {
     "data": {
      "text/plain": [
       "0.31500610367057946"
      ]
     },
     "execution_count": 23,
     "metadata": {},
     "output_type": "execute_result"
    }
   ],
   "source": [
    "0.383\n",
    "0.31500610367057946"
   ]
  },
  {
   "cell_type": "code",
   "execution_count": null,
   "metadata": {},
   "outputs": [],
   "source": []
  },
  {
   "cell_type": "code",
   "execution_count": null,
   "metadata": {},
   "outputs": [],
   "source": []
  },
  {
   "cell_type": "code",
   "execution_count": null,
   "metadata": {},
   "outputs": [],
   "source": []
  }
 ],
 "metadata": {
  "kernelspec": {
   "display_name": "Python 3",
   "language": "python",
   "name": "python3"
  },
  "language_info": {
   "codemirror_mode": {
    "name": "ipython",
    "version": 3
   },
   "file_extension": ".py",
   "mimetype": "text/x-python",
   "name": "python",
   "nbconvert_exporter": "python",
   "pygments_lexer": "ipython3",
   "version": "3.7.7"
  }
 },
 "nbformat": 4,
 "nbformat_minor": 4
}
